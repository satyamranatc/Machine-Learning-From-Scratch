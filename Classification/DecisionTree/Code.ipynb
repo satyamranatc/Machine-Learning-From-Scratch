import pandas as pd
import matplotlib.pyplot as plt
from sklearn.datasets import load_digits
from sklearn.tree import DecisionTreeClassifier
digits = load_digits()
X = digits.data
Y = digits.target



from sklearn.model_selection import train_test_split
X_train, X_test, Y_train, Y_test = train_test_split(X, Y, test_size=0.15, random_state=1)



Model = DecisionTreeClassifier()
Model



Model.fit(X_train, Y_train)


Model.predict([[ 0.,  0.,  2., 10., 16., 11.,  1.,  0.,  0.,  0., 13., 13., 10.,
       16.,  8.,  0.,  0.,  4., 14.,  1.,  8., 14.,  1.,  0.,  0.,  4.,
       15., 12., 15.,  8.,  0.,  0.,  0.,  0.,  6.,  7., 14.,  5.,  0.,
        0.,  0.,  1.,  2.,  0., 12.,  5.,  0.,  0.,  0.,  8., 15.,  6.,
       13.,  4.,  0.,  0.,  0.,  0.,  5., 11., 16.,  3.,  0.,  0.]])


Model.score(X_test, Y_test)




# Convert The Iamge to Aray:

import cv2

image_path = './Img1'

image = cv2.imread(image_path)


gray_image = cv2.cvtColor(image, cv2.COLOR_BGR2GRAY)

image_array = gray_image.flatten()

image_array = image_array.reshape(1, -1)

print(Model.predict(image_array))










